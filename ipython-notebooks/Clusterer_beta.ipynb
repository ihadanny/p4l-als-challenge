{
 "cells": [
  {
   "cell_type": "code",
   "execution_count": 1,
   "metadata": {
    "collapsed": true
   },
   "outputs": [],
   "source": [
    "## Used to create clusters of the vectorized data. Currently using good old k-means\n",
    "## to visualize, we projected the data on 2d using PCA\n",
    "## (taken from http://scikit-learn.org/stable/auto_examples/cluster/plot_kmeans_digits.html)\n",
    "## as the PCA decomposition showed dominance of Gender and Race, we took them out of the game before clustering "
   ]
  },
  {
   "cell_type": "code",
   "execution_count": 2,
   "metadata": {
    "collapsed": false
   },
   "outputs": [],
   "source": [
    "%matplotlib inline\n",
    "\n",
    "import pandas as pd\n",
    "import numpy as np\n",
    "from time import time\n",
    "import numpy as np\n",
    "import matplotlib.pyplot as plt\n",
    "\n",
    "from sklearn import metrics\n",
    "from sklearn.cluster import KMeans\n",
    "from sklearn.datasets import load_digits\n",
    "from sklearn.decomposition import PCA\n",
    "from sklearn.preprocessing import scale\n",
    "\n",
    "from sklearn.externals import joblib\n"
   ]
  },
  {
   "cell_type": "code",
   "execution_count": 3,
   "metadata": {
    "collapsed": false
   },
   "outputs": [
    {
     "data": {
      "image/png": "[encoded data removed]",
      "text/plain": [
       "<matplotlib.figure.Figure at 0xa0eeef0>"
      ]
     },
     "metadata": {},
     "output_type": "display_data"
    }
   ],
   "source": [
    "\n",
    "###############################################################################\n",
    "# Visualize results on PCA-reduced data\n",
    "def visualize_kmeans(kmeans, data, resolution = 100):\n",
    "    reduced_data = PCA(n_components=2).fit_transform(data)\n",
    "    kmeans.fit(reduced_data)\n",
    "\n",
    "    # Plot the decision boundary. For that, we will assign a color to each\n",
    "    x_min, x_max = reduced_data[:, 0].min(), reduced_data[:, 0].max()\n",
    "    y_min, y_max = reduced_data[:, 1].min(), reduced_data[:, 1].max()\n",
    "    \n",
    "    xx, yy = np.meshgrid(np.linspace(x_min, x_max, resolution), np.linspace(y_min, y_max, resolution))\n",
    "\n",
    "    # Obtain labels for each point in mesh. Use last trained model.\n",
    "    Z = kmeans.predict(np.c_[xx.ravel(), yy.ravel()])\n",
    "\n",
    "    # Put the result into a color plot\n",
    "    Z = Z.reshape(xx.shape)\n",
    "    plt.figure(1)\n",
    "    plt.clf()\n",
    "    plt.imshow(Z, interpolation='nearest',\n",
    "               extent=(xx.min(), xx.max(), yy.min(), yy.max()),\n",
    "               cmap=plt.cm.Paired,\n",
    "               aspect='auto', origin='lower')\n",
    "\n",
    "    plt.plot(reduced_data[:, 0], reduced_data[:, 1], 'k.', markersize=2)\n",
    "    # Plot the centroids as a white X\n",
    "    centroids = kmeans.cluster_centers_\n",
    "    plt.scatter(centroids[:, 0], centroids[:, 1],\n",
    "                marker='x', s=169, linewidths=3,\n",
    "                color='y', zorder=10)\n",
    "    plt.title('K-means clustering on the digits dataset (PCA-reduced data)\\n'\n",
    "              'Centroids are marked with white cross')\n",
    "    plt.xlim(x_min, x_max)\n",
    "    plt.ylim(y_min, y_max)\n",
    "    plt.xticks(())\n",
    "    plt.yticks(())\n",
    "    plt.show()\n",
    "\n",
    "digits = load_digits()\n",
    "dig_data = scale(digits.data)\n",
    "\n",
    "n_samples, n_features = dig_data.shape\n",
    "n_digits = len(np.unique(digits.target))\n",
    "\n",
    "visualize_kmeans(KMeans(init='k-means++', n_clusters=10, n_init=10), dig_data)\n"
   ]
  },
  {
   "cell_type": "code",
   "execution_count": 4,
   "metadata": {
    "collapsed": false
   },
   "outputs": [
    {
     "data": {
      "text/html": [
       "<div>\n",
       "<table border=\"1\" class=\"dataframe\">\n",
       "  <thead>\n",
       "    <tr style=\"text-align: right;\">\n",
       "      <th></th>\n",
       "      <th>bp_diastolic</th>\n",
       "      <th>bp_systolic</th>\n",
       "      <th>height</th>\n",
       "      <th>pulse</th>\n",
       "      <th>respiratory_rate</th>\n",
       "      <th>temperature</th>\n",
       "      <th>weight</th>\n",
       "      <th>F</th>\n",
       "      <th>Asian</th>\n",
       "      <th>Black</th>\n",
       "      <th>Hispanic</th>\n",
       "      <th>Other</th>\n",
       "      <th>White</th>\n",
       "    </tr>\n",
       "    <tr>\n",
       "      <th>SubjectID</th>\n",
       "      <th></th>\n",
       "      <th></th>\n",
       "      <th></th>\n",
       "      <th></th>\n",
       "      <th></th>\n",
       "      <th></th>\n",
       "      <th></th>\n",
       "      <th></th>\n",
       "      <th></th>\n",
       "      <th></th>\n",
       "      <th></th>\n",
       "      <th></th>\n",
       "      <th></th>\n",
       "    </tr>\n",
       "  </thead>\n",
       "  <tbody>\n",
       "    <tr>\n",
       "      <th>100256</th>\n",
       "      <td>-0.516411</td>\n",
       "      <td>-0.340148</td>\n",
       "      <td>0.00025</td>\n",
       "      <td>0.440030</td>\n",
       "      <td>0.009804</td>\n",
       "      <td>0.037261</td>\n",
       "      <td>-0.141928</td>\n",
       "      <td>0</td>\n",
       "      <td>0</td>\n",
       "      <td>0</td>\n",
       "      <td>0</td>\n",
       "      <td>0</td>\n",
       "      <td>1</td>\n",
       "    </tr>\n",
       "    <tr>\n",
       "      <th>100626</th>\n",
       "      <td>-0.136655</td>\n",
       "      <td>-0.347385</td>\n",
       "      <td>0.00025</td>\n",
       "      <td>0.007043</td>\n",
       "      <td>0.064004</td>\n",
       "      <td>-0.000389</td>\n",
       "      <td>0.011066</td>\n",
       "      <td>0</td>\n",
       "      <td>0</td>\n",
       "      <td>0</td>\n",
       "      <td>0</td>\n",
       "      <td>0</td>\n",
       "      <td>1</td>\n",
       "    </tr>\n",
       "    <tr>\n",
       "      <th>100806</th>\n",
       "      <td>0.436971</td>\n",
       "      <td>0.236458</td>\n",
       "      <td>0.00025</td>\n",
       "      <td>-0.292272</td>\n",
       "      <td>0.005522</td>\n",
       "      <td>-0.000389</td>\n",
       "      <td>0.043708</td>\n",
       "      <td>0</td>\n",
       "      <td>0</td>\n",
       "      <td>0</td>\n",
       "      <td>0</td>\n",
       "      <td>0</td>\n",
       "      <td>1</td>\n",
       "    </tr>\n",
       "  </tbody>\n",
       "</table>\n",
       "</div>"
      ],
      "text/plain": [
       "           bp_diastolic  bp_systolic   height     pulse  respiratory_rate  \\\n",
       "SubjectID                                                                   \n",
       "100256        -0.516411    -0.340148  0.00025  0.440030          0.009804   \n",
       "100626        -0.136655    -0.347385  0.00025  0.007043          0.064004   \n",
       "100806         0.436971     0.236458  0.00025 -0.292272          0.005522   \n",
       "\n",
       "           temperature    weight  F  Asian  Black  Hispanic  Other  White  \n",
       "SubjectID                                                                  \n",
       "100256        0.037261 -0.141928  0      0      0         0      0      1  \n",
       "100626       -0.000389  0.011066  0      0      0         0      0      1  \n",
       "100806       -0.000389  0.043708  0      0      0         0      0      1  "
      ]
     },
     "execution_count": 4,
     "metadata": {},
     "output_type": "execute_result"
    }
   ],
   "source": [
    "proact_train = pd.read_csv('../train_data_vectorized.csv', sep = '|', error_bad_lines=False, index_col='SubjectID', dtype='float')\n",
    "proact_train.head(3)\n"
   ]
  },
  {
   "cell_type": "code",
   "execution_count": 5,
   "metadata": {
    "collapsed": false
   },
   "outputs": [
    {
     "data": {
      "image/png": "[encoded data removed]",
      "text/plain": [
       "<matplotlib.figure.Figure at 0x18a82438>"
      ]
     },
     "metadata": {},
     "output_type": "display_data"
    },
    {
     "data": {
      "text/plain": [
       "[(-0.0012087102659833844, 'respiratory_rate'),\n",
       " (-0.00062210902321028312, 'height'),\n",
       " (-0.00060920276060424385, 'temperature'),\n",
       " (-0.00041961497473864132, 'Asian'),\n",
       " (-0.00041075292857822588, 'White'),\n",
       " (-0.00035887546133956988, 'Black'),\n",
       " (-0.00030317404714478473, 'Hispanic'),\n",
       " (-0.00027902943928527225, 'bp_systolic'),\n",
       " (0.0002442678681520335, 'pulse'),\n",
       " (0.0004876248892642886, 'bp_diastolic'),\n",
       " (0.00065703629680486102, 'Other'),\n",
       " (0.00066814654142820034, 'weight'),\n",
       " (1.0, 'F')]"
      ]
     },
     "execution_count": 5,
     "metadata": {},
     "output_type": "execute_result"
    }
   ],
   "source": [
    "kmeans = KMeans(init='k-means++', n_clusters=2)\n",
    "visualize_kmeans(kmeans, proact_train)\n",
    "kmeans.fit(proact_train)\n",
    "sorted([(metrics.adjusted_mutual_info_score(proact_train[col], kmeans.labels_), col) for col in proact_train.columns])"
   ]
  },
  {
   "cell_type": "code",
   "execution_count": 6,
   "metadata": {
    "collapsed": false
   },
   "outputs": [
    {
     "data": {
      "image/png": "[encoded data removed]",
      "text/plain": [
       "<matplotlib.figure.Figure at 0x42fac50>"
      ]
     },
     "metadata": {},
     "output_type": "display_data"
    },
    {
     "data": {
      "text/plain": [
       "[(-0.00099260633853862881, 'F'),\n",
       " (-0.00060717978604978343, 'height'),\n",
       " (-0.0001755560547334332, 'Hispanic'),\n",
       " (-0.00011347213438569435, 'respiratory_rate'),\n",
       " (-9.2768440631806396e-05, 'White'),\n",
       " (0.00027136241246723743, 'Other'),\n",
       " (0.00065838740175251252, 'Asian'),\n",
       " (0.0011516338936328871, 'Black'),\n",
       " (0.002381661332362851, 'weight'),\n",
       " (0.0062352750627999616, 'pulse'),\n",
       " (0.01046257352923911, 'bp_diastolic'),\n",
       " (0.011290798622886389, 'temperature'),\n",
       " (0.012374153148575059, 'bp_systolic')]"
      ]
     },
     "execution_count": 6,
     "metadata": {},
     "output_type": "execute_result"
    }
   ],
   "source": [
    "proact_train_no_dominants = proact_train.drop(['F', 'White'], 1)\n",
    "kmeans = KMeans(init='k-means++', n_clusters=3)\n",
    "visualize_kmeans(kmeans, proact_train_no_dominants)\n",
    "kmeans.fit(proact_train_no_dominants)\n",
    "sorted([(metrics.adjusted_mutual_info_score(proact_train[col], kmeans.labels_), col) for col in proact_train.columns])"
   ]
  },
  {
   "cell_type": "code",
   "execution_count": 7,
   "metadata": {
    "collapsed": false
   },
   "outputs": [],
   "source": [
    "for t in ['train', 'test']:\n",
    "    cur_data = pd.read_csv('../' + t + '_data_vectorized.csv', sep = '|', error_bad_lines=False, index_col='SubjectID')\n",
    "    data_no_dominants = cur_data.drop(['F', 'White'], 1)\n",
    "    res = pd.DataFrame(index = data_no_dominants.index)\n",
    "    res['cluster'] = kmeans.predict(data_no_dominants)\n",
    "    res.to_csv('../' + t + '_kmeans_clusters.csv',sep='|')"
   ]
  },
  {
   "cell_type": "code",
   "execution_count": null,
   "metadata": {
    "collapsed": true
   },
   "outputs": [],
   "source": []
  }
 ],
 "metadata": {
  "kernelspec": {
   "display_name": "Python 2",
   "language": "python",
   "name": "python2"
  },
  "language_info": {
   "codemirror_mode": {
    "name": "ipython",
    "version": 2
   },
   "file_extension": ".py",
   "mimetype": "text/x-python",
   "name": "python",
   "nbconvert_exporter": "python",
   "pygments_lexer": "ipython2",
   "version": "2.7.10"
  }
 },
 "nbformat": 4,
 "nbformat_minor": 0
}
