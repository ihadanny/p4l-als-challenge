{
 "cells": [
  {
   "cell_type": "code",
   "execution_count": 1,
   "metadata": {
    "collapsed": true
   },
   "outputs": [],
   "source": [
    "## Used to create clusters of the vectorized data. Currently using good old k-means\n",
    "## to visualize, we projected the data on 2d using PCA\n",
    "## (taken from http://scikit-learn.org/stable/auto_examples/cluster/plot_kmeans_digits.html)\n",
    "## as the PCA decomposition showed dominance of Gender and Race, we took them out of the game before clustering "
   ]
  },
  {
   "cell_type": "code",
   "execution_count": 2,
   "metadata": {
    "collapsed": false
   },
   "outputs": [],
   "source": [
    "%matplotlib inline\n",
    "\n",
    "import pandas as pd\n",
    "import numpy as np\n",
    "from time import time\n",
    "import numpy as np\n",
    "import matplotlib.pyplot as plt\n",
    "\n",
    "from sklearn import metrics\n",
    "from sklearn.cluster import KMeans\n",
    "from sklearn.datasets import load_digits\n",
    "from sklearn.decomposition import PCA\n",
    "from sklearn.preprocessing import scale\n",
    "\n",
    "from sklearn.externals import joblib\n"
   ]
  },
  {
   "cell_type": "code",
   "execution_count": 3,
   "metadata": {
    "collapsed": false
   },
   "outputs": [
    {
     "data": {
      "image/png": "[encoded data removed]",
      "text/plain": [
       "<matplotlib.figure.Figure at 0x4cde748>"
      ]
     },
     "metadata": {},
     "output_type": "display_data"
    }
   ],
   "source": [
    "\n",
    "###############################################################################\n",
    "# Visualize results on PCA-reduced data\n",
    "def visualize_kmeans(kmeans, data, resolution = 100):\n",
    "    reduced_data = PCA(n_components=2).fit_transform(data)\n",
    "    kmeans.fit(reduced_data)\n",
    "\n",
    "    # Plot the decision boundary. For that, we will assign a color to each\n",
    "    x_min, x_max = reduced_data[:, 0].min(), reduced_data[:, 0].max()\n",
    "    y_min, y_max = reduced_data[:, 1].min(), reduced_data[:, 1].max()\n",
    "    \n",
    "    xx, yy = np.meshgrid(np.linspace(x_min, x_max, resolution), np.linspace(y_min, y_max, resolution))\n",
    "\n",
    "    # Obtain labels for each point in mesh. Use last trained model.\n",
    "    Z = kmeans.predict(np.c_[xx.ravel(), yy.ravel()])\n",
    "\n",
    "    # Put the result into a color plot\n",
    "    Z = Z.reshape(xx.shape)\n",
    "    plt.figure(1)\n",
    "    plt.clf()\n",
    "    plt.imshow(Z, interpolation='nearest',\n",
    "               extent=(xx.min(), xx.max(), yy.min(), yy.max()),\n",
    "               cmap=plt.cm.Paired,\n",
    "               aspect='auto', origin='lower')\n",
    "\n",
    "    plt.plot(reduced_data[:, 0], reduced_data[:, 1], 'k.', markersize=2)\n",
    "    # Plot the centroids as a white X\n",
    "    centroids = kmeans.cluster_centers_\n",
    "    plt.scatter(centroids[:, 0], centroids[:, 1],\n",
    "                marker='x', s=169, linewidths=3,\n",
    "                color='y', zorder=10)\n",
    "    plt.title('K-means clustering on the digits dataset (PCA-reduced data)\\n'\n",
    "              'Centroids are marked with white cross')\n",
    "    plt.xlim(x_min, x_max)\n",
    "    plt.ylim(y_min, y_max)\n",
    "    plt.xticks(())\n",
    "    plt.yticks(())\n",
    "    plt.show()\n",
    "\n",
    "digits = load_digits()\n",
    "dig_data = scale(digits.data)\n",
    "\n",
    "n_samples, n_features = dig_data.shape\n",
    "n_digits = len(np.unique(digits.target))\n",
    "\n",
    "visualize_kmeans(KMeans(init='k-means++', n_clusters=10, n_init=10), dig_data)\n"
   ]
  },
  {
   "cell_type": "code",
   "execution_count": 4,
   "metadata": {
    "collapsed": false
   },
   "outputs": [
    {
     "data": {
      "text/html": [
       "<div>\n",
       "<table border=\"1\" class=\"dataframe\">\n",
       "  <thead>\n",
       "    <tr style=\"text-align: right;\">\n",
       "      <th></th>\n",
       "      <th>bp_diastolic</th>\n",
       "      <th>bp_systolic</th>\n",
       "      <th>height</th>\n",
       "      <th>pulse</th>\n",
       "      <th>respiratory_rate</th>\n",
       "      <th>temperature</th>\n",
       "      <th>weight</th>\n",
       "      <th>F</th>\n",
       "      <th>Asian</th>\n",
       "      <th>Black</th>\n",
       "      <th>Hispanic</th>\n",
       "      <th>Other</th>\n",
       "      <th>White</th>\n",
       "    </tr>\n",
       "    <tr>\n",
       "      <th>SubjectID</th>\n",
       "      <th></th>\n",
       "      <th></th>\n",
       "      <th></th>\n",
       "      <th></th>\n",
       "      <th></th>\n",
       "      <th></th>\n",
       "      <th></th>\n",
       "      <th></th>\n",
       "      <th></th>\n",
       "      <th></th>\n",
       "      <th></th>\n",
       "      <th></th>\n",
       "      <th></th>\n",
       "    </tr>\n",
       "  </thead>\n",
       "  <tbody>\n",
       "    <tr>\n",
       "      <th>100256</th>\n",
       "      <td>-0.516411</td>\n",
       "      <td>-0.340148</td>\n",
       "      <td>0.00025</td>\n",
       "      <td>0.440030</td>\n",
       "      <td>0.009804</td>\n",
       "      <td>0.037261</td>\n",
       "      <td>-0.141928</td>\n",
       "      <td>0</td>\n",
       "      <td>0</td>\n",
       "      <td>0</td>\n",
       "      <td>0</td>\n",
       "      <td>0</td>\n",
       "      <td>1</td>\n",
       "    </tr>\n",
       "    <tr>\n",
       "      <th>100626</th>\n",
       "      <td>-0.136655</td>\n",
       "      <td>-0.347385</td>\n",
       "      <td>0.00025</td>\n",
       "      <td>0.007043</td>\n",
       "      <td>0.064004</td>\n",
       "      <td>-0.000389</td>\n",
       "      <td>0.011066</td>\n",
       "      <td>0</td>\n",
       "      <td>0</td>\n",
       "      <td>0</td>\n",
       "      <td>0</td>\n",
       "      <td>0</td>\n",
       "      <td>1</td>\n",
       "    </tr>\n",
       "    <tr>\n",
       "      <th>100806</th>\n",
       "      <td>0.436971</td>\n",
       "      <td>0.236458</td>\n",
       "      <td>0.00025</td>\n",
       "      <td>-0.292272</td>\n",
       "      <td>0.005522</td>\n",
       "      <td>-0.000389</td>\n",
       "      <td>0.043708</td>\n",
       "      <td>0</td>\n",
       "      <td>0</td>\n",
       "      <td>0</td>\n",
       "      <td>0</td>\n",
       "      <td>0</td>\n",
       "      <td>1</td>\n",
       "    </tr>\n",
       "  </tbody>\n",
       "</table>\n",
       "</div>"
      ],
      "text/plain": [
       "           bp_diastolic  bp_systolic   height     pulse  respiratory_rate  \\\n",
       "SubjectID                                                                   \n",
       "100256        -0.516411    -0.340148  0.00025  0.440030          0.009804   \n",
       "100626        -0.136655    -0.347385  0.00025  0.007043          0.064004   \n",
       "100806         0.436971     0.236458  0.00025 -0.292272          0.005522   \n",
       "\n",
       "           temperature    weight  F  Asian  Black  Hispanic  Other  White  \n",
       "SubjectID                                                                  \n",
       "100256        0.037261 -0.141928  0      0      0         0      0      1  \n",
       "100626       -0.000389  0.011066  0      0      0         0      0      1  \n",
       "100806       -0.000389  0.043708  0      0      0         0      0      1  "
      ]
     },
     "execution_count": 4,
     "metadata": {},
     "output_type": "execute_result"
    }
   ],
   "source": [
    "proact_train = pd.read_csv('../train_data_vectorized.csv', sep = '|', error_bad_lines=False, index_col='SubjectID', dtype='float')\n",
    "proact_train.head(3)\n"
   ]
  },
  {
   "cell_type": "code",
   "execution_count": 5,
   "metadata": {
    "collapsed": false
   },
   "outputs": [
    {
     "data": {
      "image/png": "[encoded data removed]",
      "text/plain": [
       "<matplotlib.figure.Figure at 0x406cc50>"
      ]
     },
     "metadata": {},
     "output_type": "display_data"
    },
    {
     "data": {
      "text/plain": [
       "[(-0.0011535044918664047, 'respiratory_rate'),\n",
       " (-0.00096022446493743477, 'temperature'),\n",
       " (-0.0006038200664664024, 'height'),\n",
       " (-0.0004223725832477413, 'Asian'),\n",
       " (-0.0004178245990694276, 'White'),\n",
       " (-0.0003647063523069402, 'Black'),\n",
       " (-0.00029826536175310526, 'Hispanic'),\n",
       " (-0.00026169860976147589, 'bp_systolic'),\n",
       " (0.000261588807657988, 'pulse'),\n",
       " (0.00050941895191752905, 'bp_diastolic'),\n",
       " (0.00063816438317405735, 'weight'),\n",
       " (0.00066156352960260623, 'Other'),\n",
       " (0.98645213546958055, 'F')]"
      ]
     },
     "execution_count": 5,
     "metadata": {},
     "output_type": "execute_result"
    }
   ],
   "source": [
    "kmeans = KMeans(init='k-means++', n_clusters=2)\n",
    "visualize_kmeans(kmeans, proact_train)\n",
    "kmeans.fit(proact_train)\n",
    "sorted([(metrics.adjusted_mutual_info_score(proact_train[col], kmeans.labels_), col) for col in proact_train.columns])"
   ]
  },
  {
   "cell_type": "code",
   "execution_count": 6,
   "metadata": {
    "collapsed": false
   },
   "outputs": [
    {
     "data": {
      "image/png": "[encoded data removed]",
      "text/plain": [
       "<matplotlib.figure.Figure at 0x406ce48>"
      ]
     },
     "metadata": {},
     "output_type": "display_data"
    },
    {
     "data": {
      "text/plain": [
       "[(-0.0009790376245085719, 'F'),\n",
       " (-0.0005959271466359111, 'height'),\n",
       " (-0.00018042411883671973, 'White'),\n",
       " (-0.00013208725310993042, 'Hispanic'),\n",
       " (0.00029381439144421248, 'Other'),\n",
       " (0.00029519611893407907, 'respiratory_rate'),\n",
       " (0.00072974968631316171, 'Asian'),\n",
       " (0.0012092106142466039, 'Black'),\n",
       " (0.0023913911127317129, 'weight'),\n",
       " (0.0064164684050723505, 'pulse'),\n",
       " (0.01039646230747077, 'bp_diastolic'),\n",
       " (0.010432331367725258, 'temperature'),\n",
       " (0.012301250919283453, 'bp_systolic')]"
      ]
     },
     "execution_count": 6,
     "metadata": {},
     "output_type": "execute_result"
    }
   ],
   "source": [
    "proact_train_no_dominants = proact_train.drop(['F', 'White'], 1)\n",
    "kmeans = KMeans(init='k-means++', n_clusters=3)\n",
    "visualize_kmeans(kmeans, proact_train_no_dominants)\n",
    "kmeans.fit(proact_train_no_dominants)\n",
    "sorted([(metrics.adjusted_mutual_info_score(proact_train[col], kmeans.labels_), col) for col in proact_train.columns])"
   ]
  },
  {
   "cell_type": "code",
   "execution_count": 9,
   "metadata": {
    "collapsed": false
   },
   "outputs": [],
   "source": [
    "for t in ['train', 'test']:\n",
    "    cur_data = pd.read_csv('../' + t + '_data_vectorized.csv', sep = '|', error_bad_lines=False, index_col='SubjectID')\n",
    "    data_no_dominants = cur_data.drop(['F', 'White'], 1)\n",
    "    res = pd.DataFrame(index = data_no_dominants.index)\n",
    "    res['cluster'] = kmeans.predict(data_no_dominants)\n",
    "    res.to_csv('../' + t + '_kmeans_clusters.csv',sep='|')"
   ]
  },
  {
   "cell_type": "code",
   "execution_count": null,
   "metadata": {
    "collapsed": true
   },
   "outputs": [],
   "source": []
  }
 ],
 "metadata": {
  "kernelspec": {
   "display_name": "Python 2",
   "language": "python",
   "name": "python2"
  },
  "language_info": {
   "codemirror_mode": {
    "name": "ipython",
    "version": 2
   },
   "file_extension": ".py",
   "mimetype": "text/x-python",
   "name": "python",
   "nbconvert_exporter": "python",
   "pygments_lexer": "ipython2",
   "version": "2.7.10"
  }
 },
 "nbformat": 4,
 "nbformat_minor": 0
}
