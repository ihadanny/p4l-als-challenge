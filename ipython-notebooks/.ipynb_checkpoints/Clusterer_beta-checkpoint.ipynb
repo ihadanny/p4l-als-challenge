{
 "cells": [
  {
   "cell_type": "code",
   "execution_count": 1,
   "metadata": {
    "collapsed": true
   },
   "outputs": [],
   "source": [
    "## Used to create clusters of the vectorized data. Currently using good old k-means\n",
    "## to visualize, we projected the data on 2d using PCA\n",
    "## (taken from http://scikit-learn.org/stable/auto_examples/cluster/plot_kmeans_digits.html)\n",
    "## as the PCA decomposition showed dominance of Gender and Race, we took them out of the game before clustering "
   ]
  },
  {
   "cell_type": "code",
   "execution_count": 2,
   "metadata": {
    "collapsed": false
   },
   "outputs": [],
   "source": [
    "%matplotlib inline\n",
    "\n",
    "import pandas as pd\n",
    "import numpy as np\n",
    "from time import time\n",
    "import numpy as np\n",
    "import matplotlib.pyplot as plt\n",
    "\n",
    "from sklearn import metrics\n",
    "from sklearn.cluster import KMeans\n",
    "from sklearn.datasets import load_digits\n",
    "from sklearn.decomposition import PCA\n",
    "from sklearn.preprocessing import scale\n",
    "\n",
    "from sklearn.externals import joblib\n"
   ]
  },
  {
   "cell_type": "code",
   "execution_count": 3,
   "metadata": {
    "collapsed": false
   },
   "outputs": [
    {
     "data": {
      "image/png": "[encoded data removed]",
      "text/plain": [
       "<matplotlib.figure.Figure at 0x9eb9828>"
      ]
     },
     "metadata": {},
     "output_type": "display_data"
    }
   ],
   "source": [
    "\n",
    "###############################################################################\n",
    "# Visualize results on PCA-reduced data\n",
    "def visualize_kmeans(kmeans, data, resolution = 100):\n",
    "    reduced_data = PCA(n_components=2).fit_transform(data)\n",
    "    kmeans.fit(reduced_data)\n",
    "\n",
    "    # Plot the decision boundary. For that, we will assign a color to each\n",
    "    x_min, x_max = reduced_data[:, 0].min(), reduced_data[:, 0].max()\n",
    "    y_min, y_max = reduced_data[:, 1].min(), reduced_data[:, 1].max()\n",
    "    \n",
    "    xx, yy = np.meshgrid(np.linspace(x_min, x_max, resolution), np.linspace(y_min, y_max, resolution))\n",
    "\n",
    "    # Obtain labels for each point in mesh. Use last trained model.\n",
    "    Z = kmeans.predict(np.c_[xx.ravel(), yy.ravel()])\n",
    "\n",
    "    # Put the result into a color plot\n",
    "    Z = Z.reshape(xx.shape)\n",
    "    plt.figure(1)\n",
    "    plt.clf()\n",
    "    plt.imshow(Z, interpolation='nearest',\n",
    "               extent=(xx.min(), xx.max(), yy.min(), yy.max()),\n",
    "               cmap=plt.cm.Paired,\n",
    "               aspect='auto', origin='lower')\n",
    "\n",
    "    plt.plot(reduced_data[:, 0], reduced_data[:, 1], 'k.', markersize=2)\n",
    "    # Plot the centroids as a white X\n",
    "    centroids = kmeans.cluster_centers_\n",
    "    plt.scatter(centroids[:, 0], centroids[:, 1],\n",
    "                marker='x', s=169, linewidths=3,\n",
    "                color='y', zorder=10)\n",
    "    plt.title('K-means clustering on the digits dataset (PCA-reduced data)\\n'\n",
    "              'Centroids are marked with white cross')\n",
    "    plt.xlim(x_min, x_max)\n",
    "    plt.ylim(y_min, y_max)\n",
    "    plt.xticks(())\n",
    "    plt.yticks(())\n",
    "    plt.show()\n",
    "\n",
    "digits = load_digits()\n",
    "dig_data = scale(digits.data)\n",
    "\n",
    "n_samples, n_features = dig_data.shape\n",
    "n_digits = len(np.unique(digits.target))\n",
    "\n",
    "visualize_kmeans(KMeans(init='k-means++', n_clusters=10, n_init=10), dig_data)\n"
   ]
  },
  {
   "cell_type": "code",
   "execution_count": 4,
   "metadata": {
    "collapsed": false
   },
   "outputs": [
    {
     "data": {
      "text/html": [
       "<div style=\"max-height:1000px;max-width:1500px;overflow:auto;\">\n",
       "<table border=\"1\" class=\"dataframe\">\n",
       "  <thead>\n",
       "    <tr style=\"text-align: right;\">\n",
       "      <th></th>\n",
       "      <th>bp_diastolic</th>\n",
       "      <th>bp_systolic</th>\n",
       "      <th>height</th>\n",
       "      <th>pulse</th>\n",
       "      <th>respiratory_rate</th>\n",
       "      <th>temperature</th>\n",
       "      <th>weight</th>\n",
       "      <th>F</th>\n",
       "      <th>Asian</th>\n",
       "      <th>Black</th>\n",
       "      <th>Hispanic</th>\n",
       "      <th>Other</th>\n",
       "      <th>White</th>\n",
       "    </tr>\n",
       "    <tr>\n",
       "      <th>SubjectID</th>\n",
       "      <th></th>\n",
       "      <th></th>\n",
       "      <th></th>\n",
       "      <th></th>\n",
       "      <th></th>\n",
       "      <th></th>\n",
       "      <th></th>\n",
       "      <th></th>\n",
       "      <th></th>\n",
       "      <th></th>\n",
       "      <th></th>\n",
       "      <th></th>\n",
       "      <th></th>\n",
       "    </tr>\n",
       "  </thead>\n",
       "  <tbody>\n",
       "    <tr>\n",
       "      <th>100256</th>\n",
       "      <td>-0.271822</td>\n",
       "      <td>-0.183690</td>\n",
       "      <td>0.000248</td>\n",
       "      <td>0.238612</td>\n",
       "      <td>0.009914</td>\n",
       "      <td>0.020374</td>\n",
       "      <td>-0.090387</td>\n",
       "      <td>0</td>\n",
       "      <td>0</td>\n",
       "      <td>0</td>\n",
       "      <td>0</td>\n",
       "      <td>0</td>\n",
       "      <td>1</td>\n",
       "    </tr>\n",
       "    <tr>\n",
       "      <th>100626</th>\n",
       "      <td>-0.028675</td>\n",
       "      <td>-0.126774</td>\n",
       "      <td>0.000248</td>\n",
       "      <td>0.003701</td>\n",
       "      <td>0.046998</td>\n",
       "      <td>-0.000120</td>\n",
       "      <td>0.003851</td>\n",
       "      <td>0</td>\n",
       "      <td>0</td>\n",
       "      <td>0</td>\n",
       "      <td>0</td>\n",
       "      <td>0</td>\n",
       "      <td>1</td>\n",
       "    </tr>\n",
       "    <tr>\n",
       "      <th>100806</th>\n",
       "      <td>0.150647</td>\n",
       "      <td>0.065070</td>\n",
       "      <td>0.000248</td>\n",
       "      <td>-0.100390</td>\n",
       "      <td>0.008609</td>\n",
       "      <td>-0.000120</td>\n",
       "      <td>0.035072</td>\n",
       "      <td>0</td>\n",
       "      <td>0</td>\n",
       "      <td>0</td>\n",
       "      <td>0</td>\n",
       "      <td>0</td>\n",
       "      <td>1</td>\n",
       "    </tr>\n",
       "  </tbody>\n",
       "</table>\n",
       "</div>"
      ],
      "text/plain": [
       "           bp_diastolic  bp_systolic    height     pulse  respiratory_rate  \\\n",
       "SubjectID                                                                    \n",
       "100256        -0.271822    -0.183690  0.000248  0.238612          0.009914   \n",
       "100626        -0.028675    -0.126774  0.000248  0.003701          0.046998   \n",
       "100806         0.150647     0.065070  0.000248 -0.100390          0.008609   \n",
       "\n",
       "           temperature    weight  F  Asian  Black  Hispanic  Other  White  \n",
       "SubjectID                                                                  \n",
       "100256        0.020374 -0.090387  0      0      0         0      0      1  \n",
       "100626       -0.000120  0.003851  0      0      0         0      0      1  \n",
       "100806       -0.000120  0.035072  0      0      0         0      0      1  "
      ]
     },
     "execution_count": 4,
     "metadata": {},
     "output_type": "execute_result"
    }
   ],
   "source": [
    "proact_train = pd.read_csv('../train_data_vectorized.csv', sep = '|', error_bad_lines=False, index_col='SubjectID', dtype='float')\n",
    "proact_train.head(3)\n"
   ]
  },
  {
   "cell_type": "code",
   "execution_count": 5,
   "metadata": {
    "collapsed": false
   },
   "outputs": [
    {
     "data": {
      "image/png": "[encoded data removed]",
      "text/plain": [
       "<matplotlib.figure.Figure at 0xcd6bb00>"
      ]
     },
     "metadata": {},
     "output_type": "display_data"
    },
    {
     "data": {
      "text/plain": [
       "[(-0.0012959303423673468, 'temperature'),\n",
       " (-0.00058341655310057349, 'height'),\n",
       " (-0.00034528727573267812, 'Black'),\n",
       " (-0.00034327832711200217, 'Asian'),\n",
       " (-0.00033810394129651493, 'White'),\n",
       " (-0.0002653187287987907, 'Hispanic'),\n",
       " (-0.00020463671081302423, 'bp_diastolic'),\n",
       " (-0.00015699515417134916, 'weight'),\n",
       " (-0.00013523421347068706, 'pulse'),\n",
       " (-0.00012909948940046466, 'bp_systolic'),\n",
       " (0.00035204501937444074, 'respiratory_rate'),\n",
       " (0.00061669078999176464, 'Other'),\n",
       " (1.0, 'F')]"
      ]
     },
     "execution_count": 5,
     "metadata": {},
     "output_type": "execute_result"
    }
   ],
   "source": [
    "kmeans = KMeans(init='k-means++', n_clusters=2)\n",
    "visualize_kmeans(kmeans, proact_train)\n",
    "kmeans.fit(proact_train)\n",
    "sorted([(metrics.adjusted_mutual_info_score(proact_train[col], kmeans.labels_), col) for col in proact_train.columns])"
   ]
  },
  {
   "cell_type": "code",
   "execution_count": 6,
   "metadata": {
    "collapsed": false
   },
   "outputs": [
    {
     "data": {
      "image/png": "[encoded data removed]",
      "text/plain": [
       "<matplotlib.figure.Figure at 0x19378518>"
      ]
     },
     "metadata": {},
     "output_type": "display_data"
    },
    {
     "data": {
      "text/plain": [
       "[(-0.00053484748741598211, 'White'),\n",
       " (-0.00050444781320498381, 'Hispanic'),\n",
       " (-0.00036963271243073702, 'height'),\n",
       " (-0.0001247945868105721, 'F'),\n",
       " (6.0568529013531996e-05, 'Other'),\n",
       " (0.00035495766629560575, 'Asian'),\n",
       " (0.00054164765887433684, 'Black'),\n",
       " (0.0017811816040272685, 'weight'),\n",
       " (0.0041329921374384081, 'respiratory_rate'),\n",
       " (0.011601377658944105, 'pulse'),\n",
       " (0.012797821007602383, 'bp_systolic'),\n",
       " (0.012928777576349882, 'bp_diastolic'),\n",
       " (0.024618719822824809, 'temperature')]"
      ]
     },
     "execution_count": 6,
     "metadata": {},
     "output_type": "execute_result"
    }
   ],
   "source": [
    "proact_train_no_dominants = proact_train.drop(['F', 'White'], 1)\n",
    "kmeans = KMeans(init='k-means++', n_clusters=3)\n",
    "visualize_kmeans(kmeans, proact_train_no_dominants)\n",
    "kmeans.fit(proact_train_no_dominants)\n",
    "sorted([(metrics.adjusted_mutual_info_score(proact_train[col], kmeans.labels_), col) for col in proact_train.columns])"
   ]
  },
  {
   "cell_type": "code",
   "execution_count": 7,
   "metadata": {
    "collapsed": false
   },
   "outputs": [],
   "source": [
    "for t in ['train', 'test']:\n",
    "    cur_data = pd.read_csv('../' + t + '_data_vectorized.csv', sep = '|', error_bad_lines=False, index_col='SubjectID')\n",
    "    data_no_dominants = cur_data.drop(['F', 'White'], 1)\n",
    "    res = pd.DataFrame(index = data_no_dominants.index)\n",
    "    res['cluster'] = kmeans.predict(data_no_dominants)\n",
    "    res.to_csv('../' + t + '_kmeans_clusters.csv',sep='|')"
   ]
  },
  {
   "cell_type": "code",
   "execution_count": 8,
   "metadata": {
    "collapsed": false
   },
   "outputs": [
    {
     "data": {
      "text/plain": [
       "['../my_clusterer.pkl',\n",
       " '../my_clusterer.pkl_01.npy',\n",
       " '../my_clusterer.pkl_02.npy']"
      ]
     },
     "execution_count": 8,
     "metadata": {},
     "output_type": "execute_result"
    }
   ],
   "source": [
    "from sklearn.externals import joblib\n",
    "joblib.dump(kmeans, '../my_clusterer.pkl') "
   ]
  }
 ],
 "metadata": {
  "kernelspec": {
   "display_name": "Python 2",
   "language": "python",
   "name": "python2"
  },
  "language_info": {
   "codemirror_mode": {
    "name": "ipython",
    "version": 2
   },
   "file_extension": ".py",
   "mimetype": "text/x-python",
   "name": "python",
   "nbconvert_exporter": "python",
   "pygments_lexer": "ipython2",
   "version": "2.7.8"
  }
 },
 "nbformat": 4,
 "nbformat_minor": 0
}
