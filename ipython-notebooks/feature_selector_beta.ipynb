{
 "cells": [
  {
   "cell_type": "code",
   "execution_count": 1,
   "metadata": {
    "collapsed": true
   },
   "outputs": [],
   "source": [
    "# Used for selecting the 6 best features per cluster. \n",
    "# Assumes data is vectorized + clustered.\n",
    "# We're using simple f_regression score of each variable vs. the ALSFRS_score, and take the best 6. "
   ]
  },
  {
   "cell_type": "code",
   "execution_count": 2,
   "metadata": {
    "collapsed": false
   },
   "outputs": [],
   "source": [
    "%matplotlib inline\n",
    "\n",
    "import pandas as pd\n",
    "import numpy as np\n",
    "from sklearn.feature_selection import SelectKBest\n",
    "from sklearn.feature_selection import f_regression\n"
   ]
  },
  {
   "cell_type": "code",
   "execution_count": 3,
   "metadata": {
    "collapsed": false
   },
   "outputs": [
    {
     "data": {
      "text/html": [
       "<div>\n",
       "<table border=\"1\" class=\"dataframe\">\n",
       "  <thead>\n",
       "    <tr style=\"text-align: right;\">\n",
       "      <th></th>\n",
       "      <th>bp_diastolic</th>\n",
       "      <th>bp_systolic</th>\n",
       "      <th>height</th>\n",
       "      <th>pulse</th>\n",
       "      <th>respiratory_rate</th>\n",
       "      <th>temperature</th>\n",
       "      <th>weight</th>\n",
       "      <th>F</th>\n",
       "      <th>Asian</th>\n",
       "      <th>Black</th>\n",
       "      <th>Hispanic</th>\n",
       "      <th>Other</th>\n",
       "      <th>White</th>\n",
       "      <th>ALSFRS_slope</th>\n",
       "    </tr>\n",
       "    <tr>\n",
       "      <th>cluster</th>\n",
       "      <th></th>\n",
       "      <th></th>\n",
       "      <th></th>\n",
       "      <th></th>\n",
       "      <th></th>\n",
       "      <th></th>\n",
       "      <th></th>\n",
       "      <th></th>\n",
       "      <th></th>\n",
       "      <th></th>\n",
       "      <th></th>\n",
       "      <th></th>\n",
       "      <th></th>\n",
       "      <th></th>\n",
       "    </tr>\n",
       "  </thead>\n",
       "  <tbody>\n",
       "    <tr>\n",
       "      <th>0</th>\n",
       "      <td>-0.254267</td>\n",
       "      <td>-0.585448</td>\n",
       "      <td>0.000185</td>\n",
       "      <td>-0.000556</td>\n",
       "      <td>0.007145</td>\n",
       "      <td>-0.000288</td>\n",
       "      <td>0.001296</td>\n",
       "      <td>0.359268</td>\n",
       "      <td>0.002288</td>\n",
       "      <td>0.011442</td>\n",
       "      <td>0.002288</td>\n",
       "      <td>0.00000</td>\n",
       "      <td>0.958810</td>\n",
       "      <td>-0.721877</td>\n",
       "    </tr>\n",
       "    <tr>\n",
       "      <th>1</th>\n",
       "      <td>0.074213</td>\n",
       "      <td>0.142662</td>\n",
       "      <td>0.000274</td>\n",
       "      <td>0.025401</td>\n",
       "      <td>0.003991</td>\n",
       "      <td>-0.000342</td>\n",
       "      <td>0.005415</td>\n",
       "      <td>0.361506</td>\n",
       "      <td>0.009205</td>\n",
       "      <td>0.017573</td>\n",
       "      <td>0.005858</td>\n",
       "      <td>0.00251</td>\n",
       "      <td>0.949791</td>\n",
       "      <td>-0.728760</td>\n",
       "    </tr>\n",
       "    <tr>\n",
       "      <th>2</th>\n",
       "      <td>-0.344796</td>\n",
       "      <td>-6.433254</td>\n",
       "      <td>0.000125</td>\n",
       "      <td>-2.271834</td>\n",
       "      <td>0.275022</td>\n",
       "      <td>-0.017081</td>\n",
       "      <td>0.059300</td>\n",
       "      <td>0.333333</td>\n",
       "      <td>0.000000</td>\n",
       "      <td>0.166667</td>\n",
       "      <td>0.000000</td>\n",
       "      <td>0.00000</td>\n",
       "      <td>0.833333</td>\n",
       "      <td>-0.787179</td>\n",
       "    </tr>\n",
       "  </tbody>\n",
       "</table>\n",
       "</div>"
      ],
      "text/plain": [
       "         bp_diastolic  bp_systolic    height     pulse  respiratory_rate  \\\n",
       "cluster                                                                    \n",
       "0           -0.254267    -0.585448  0.000185 -0.000556          0.007145   \n",
       "1            0.074213     0.142662  0.000274  0.025401          0.003991   \n",
       "2           -0.344796    -6.433254  0.000125 -2.271834          0.275022   \n",
       "\n",
       "         temperature    weight         F     Asian     Black  Hispanic  \\\n",
       "cluster                                                                  \n",
       "0          -0.000288  0.001296  0.359268  0.002288  0.011442  0.002288   \n",
       "1          -0.000342  0.005415  0.361506  0.009205  0.017573  0.005858   \n",
       "2          -0.017081  0.059300  0.333333  0.000000  0.166667  0.000000   \n",
       "\n",
       "           Other     White  ALSFRS_slope  \n",
       "cluster                                   \n",
       "0        0.00000  0.958810     -0.721877  \n",
       "1        0.00251  0.949791     -0.728760  \n",
       "2        0.00000  0.833333     -0.787179  "
      ]
     },
     "execution_count": 3,
     "metadata": {},
     "output_type": "execute_result"
    }
   ],
   "source": [
    "proact_data = pd.read_csv('../train_data_vectorized.csv', sep = '|', index_col='SubjectID')\n",
    "slope = pd.read_csv('../train_slope.csv', sep = '|', index_col='SubjectID')\n",
    "clusters = pd.read_csv('../train_kmeans_clusters.csv', sep = '|', index_col='SubjectID')\n",
    "X = pd.merge(proact_data, clusters, left_index = True, right_index = True)\n",
    "Y = pd.merge(X, slope, left_index = True, right_index = True)\n",
    "\n",
    "Y.groupby('cluster').mean()"
   ]
  },
  {
   "cell_type": "code",
   "execution_count": 4,
   "metadata": {
    "collapsed": false
   },
   "outputs": [
    {
     "name": "stdout",
     "output_type": "stream",
     "text": [
      "0 (437, 14) (437, 15)\n",
      "Index([u'height', u'temperature', u'F', u'Asian', u'Hispanic', u'White'], dtype='object')\n",
      "1 (1195, 14) (1195, 15)\n",
      "Index([u'bp_diastolic', u'pulse', u'weight', u'F', u'Asian', u'White'], dtype='object')\n",
      "2 (6, 14) (6, 15)\n",
      "Index([u'height', u'temperature', u'weight', u'F', u'Black', u'White'], dtype='object')\n"
     ]
    }
   ],
   "source": [
    "selector_per_cluster = {}\n",
    "for c in clusters['cluster'].unique():\n",
    "    seg_X, seg_Y = X[X['cluster'] == c], Y[Y['cluster'] == c]\n",
    "    print c, seg_X.shape, seg_Y.shape\n",
    "    selector = SelectKBest(f_regression, k=6)\n",
    "    X_new = selector.fit_transform(seg_X, seg_Y['ALSFRS_slope'])\n",
    "    print seg_X.columns[selector.get_support()]\n",
    "    selector_per_cluster[c] = selector"
   ]
  },
  {
   "cell_type": "code",
   "execution_count": 5,
   "metadata": {
    "collapsed": false
   },
   "outputs": [],
   "source": [
    "def calc(x):\n",
    "    selector = selector_per_cluster[x['cluster']]\n",
    "    d = {\"feature_ \" + str(i): v for i, v in enumerate(selector.transform(x)[0])}\n",
    "    d['features_list'] = ';'.join(cur_X.columns[selector.get_support()])\n",
    "    d['cluster'] = int(x['cluster'])\n",
    "    return pd.Series(d)\n",
    "\n",
    "for t in ['train', 'test']:\n",
    "    cur_data = pd.read_csv('../' + t + '_data_vectorized.csv', sep = '|', index_col='SubjectID')\n",
    "    cur_clusters = pd.read_csv('../' + t + '_kmeans_clusters.csv', sep = '|', index_col='SubjectID')\n",
    "    cur_X = pd.merge(cur_data, cur_clusters, left_index = True, right_index = True)\n",
    "    res = cur_X.apply(calc, axis = 1)\n",
    "    res.to_csv('../' + t + '_selected_features.csv',sep='|')\n",
    "    "
   ]
  },
  {
   "cell_type": "code",
   "execution_count": null,
   "metadata": {
    "collapsed": true
   },
   "outputs": [],
   "source": []
  }
 ],
 "metadata": {
  "kernelspec": {
   "display_name": "Python 2",
   "language": "python",
   "name": "python2"
  },
  "language_info": {
   "codemirror_mode": {
    "name": "ipython",
    "version": 2
   },
   "file_extension": ".py",
   "mimetype": "text/x-python",
   "name": "python",
   "nbconvert_exporter": "python",
   "pygments_lexer": "ipython2",
   "version": "2.7.10"
  }
 },
 "nbformat": 4,
 "nbformat_minor": 0
}
