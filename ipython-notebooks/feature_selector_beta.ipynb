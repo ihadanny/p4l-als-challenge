{
 "cells": [
  {
   "cell_type": "code",
   "execution_count": 1,
   "metadata": {
    "collapsed": true
   },
   "outputs": [],
   "source": [
    "# Used for selecting the 6 best features per cluster. \n",
    "# Assumes data is vectorized + clustered.\n",
    "# We're using simple f_regression score of each variable vs. the ALSFRS_score, and take the best 6. "
   ]
  },
  {
   "cell_type": "code",
   "execution_count": 2,
   "metadata": {
    "collapsed": false
   },
   "outputs": [],
   "source": [
    "%matplotlib inline\n",
    "\n",
    "import pandas as pd\n",
    "import numpy as np\n",
    "from sklearn.feature_selection import SelectKBest\n",
    "from sklearn.feature_selection import f_regression\n"
   ]
  },
  {
   "cell_type": "code",
   "execution_count": 3,
   "metadata": {
    "collapsed": false
   },
   "outputs": [
    {
     "data": {
      "text/html": [
       "<div>\n",
       "<table border=\"1\" class=\"dataframe\">\n",
       "  <thead>\n",
       "    <tr style=\"text-align: right;\">\n",
       "      <th></th>\n",
       "      <th>bp_diastolic</th>\n",
       "      <th>bp_systolic</th>\n",
       "      <th>height</th>\n",
       "      <th>pulse</th>\n",
       "      <th>respiratory_rate</th>\n",
       "      <th>temperature</th>\n",
       "      <th>weight</th>\n",
       "      <th>F</th>\n",
       "      <th>Asian</th>\n",
       "      <th>Black</th>\n",
       "      <th>Hispanic</th>\n",
       "      <th>Other</th>\n",
       "      <th>White</th>\n",
       "      <th>ALSFRS_slope</th>\n",
       "    </tr>\n",
       "    <tr>\n",
       "      <th>cluster</th>\n",
       "      <th></th>\n",
       "      <th></th>\n",
       "      <th></th>\n",
       "      <th></th>\n",
       "      <th></th>\n",
       "      <th></th>\n",
       "      <th></th>\n",
       "      <th></th>\n",
       "      <th></th>\n",
       "      <th></th>\n",
       "      <th></th>\n",
       "      <th></th>\n",
       "      <th></th>\n",
       "      <th></th>\n",
       "    </tr>\n",
       "  </thead>\n",
       "  <tbody>\n",
       "    <tr>\n",
       "      <th>0</th>\n",
       "      <td>0.074945</td>\n",
       "      <td>0.144886</td>\n",
       "      <td>0.000275</td>\n",
       "      <td>0.026090</td>\n",
       "      <td>0.003552</td>\n",
       "      <td>-0.000335</td>\n",
       "      <td>0.005274</td>\n",
       "      <td>0.362795</td>\n",
       "      <td>0.009259</td>\n",
       "      <td>0.017677</td>\n",
       "      <td>0.005892</td>\n",
       "      <td>0.002525</td>\n",
       "      <td>0.950337</td>\n",
       "      <td>-0.729489</td>\n",
       "    </tr>\n",
       "    <tr>\n",
       "      <th>1</th>\n",
       "      <td>-0.251046</td>\n",
       "      <td>-0.579919</td>\n",
       "      <td>0.000184</td>\n",
       "      <td>-0.001990</td>\n",
       "      <td>0.008271</td>\n",
       "      <td>-0.000307</td>\n",
       "      <td>0.001740</td>\n",
       "      <td>0.355856</td>\n",
       "      <td>0.002252</td>\n",
       "      <td>0.011261</td>\n",
       "      <td>0.002252</td>\n",
       "      <td>0.000000</td>\n",
       "      <td>0.957207</td>\n",
       "      <td>-0.720036</td>\n",
       "    </tr>\n",
       "    <tr>\n",
       "      <th>2</th>\n",
       "      <td>-0.344796</td>\n",
       "      <td>-6.433254</td>\n",
       "      <td>0.000125</td>\n",
       "      <td>-2.271834</td>\n",
       "      <td>0.275022</td>\n",
       "      <td>-0.017081</td>\n",
       "      <td>0.059300</td>\n",
       "      <td>0.333333</td>\n",
       "      <td>0.000000</td>\n",
       "      <td>0.166667</td>\n",
       "      <td>0.000000</td>\n",
       "      <td>0.000000</td>\n",
       "      <td>0.833333</td>\n",
       "      <td>-0.787179</td>\n",
       "    </tr>\n",
       "  </tbody>\n",
       "</table>\n",
       "</div>"
      ],
      "text/plain": [
       "         bp_diastolic  bp_systolic    height     pulse  respiratory_rate  \\\n",
       "cluster                                                                    \n",
       "0            0.074945     0.144886  0.000275  0.026090          0.003552   \n",
       "1           -0.251046    -0.579919  0.000184 -0.001990          0.008271   \n",
       "2           -0.344796    -6.433254  0.000125 -2.271834          0.275022   \n",
       "\n",
       "         temperature    weight         F     Asian     Black  Hispanic  \\\n",
       "cluster                                                                  \n",
       "0          -0.000335  0.005274  0.362795  0.009259  0.017677  0.005892   \n",
       "1          -0.000307  0.001740  0.355856  0.002252  0.011261  0.002252   \n",
       "2          -0.017081  0.059300  0.333333  0.000000  0.166667  0.000000   \n",
       "\n",
       "            Other     White  ALSFRS_slope  \n",
       "cluster                                    \n",
       "0        0.002525  0.950337     -0.729489  \n",
       "1        0.000000  0.957207     -0.720036  \n",
       "2        0.000000  0.833333     -0.787179  "
      ]
     },
     "execution_count": 3,
     "metadata": {},
     "output_type": "execute_result"
    }
   ],
   "source": [
    "proact_data = pd.read_csv('../train_data_vectorized.csv', sep = '|', index_col='SubjectID')\n",
    "slope = pd.read_csv('../train_slope.csv', sep = '|', index_col='SubjectID')\n",
    "clusters = pd.read_csv('../train_kmeans_clusters.csv', sep = '|', index_col='SubjectID')\n",
    "X = pd.merge(proact_data, clusters, left_index = True, right_index = True)\n",
    "Y = pd.merge(X, slope, left_index = True, right_index = True)\n",
    "\n",
    "Y.groupby('cluster').mean()"
   ]
  },
  {
   "cell_type": "code",
   "execution_count": 4,
   "metadata": {
    "collapsed": false
   },
   "outputs": [
    {
     "name": "stdout",
     "output_type": "stream",
     "text": [
      "1 (444, 14) (444, 15)\n",
      "Index([u'bp_systolic', u'height', u'respiratory_rate', u'F', u'Asian',\n",
      "       u'Black'],\n",
      "      dtype='object')\n",
      "0 (1188, 14) (1188, 15)\n",
      "Index([u'bp_diastolic', u'bp_systolic', u'pulse', u'F', u'Asian', u'White'], dtype='object')\n",
      "2 (6, 14) (6, 15)\n",
      "Index([u'height', u'temperature', u'weight', u'F', u'Black', u'White'], dtype='object')\n"
     ]
    }
   ],
   "source": [
    "selector_per_cluster = {}\n",
    "for c in clusters['cluster'].unique():\n",
    "    seg_X, seg_Y = X[X['cluster'] == c], Y[Y['cluster'] == c]\n",
    "    print c, seg_X.shape, seg_Y.shape\n",
    "    selector = SelectKBest(f_regression, k=6)\n",
    "    X_new = selector.fit_transform(seg_X, seg_Y['ALSFRS_slope'])\n",
    "    print seg_X.columns[selector.get_support()]\n",
    "    selector_per_cluster[c] = selector"
   ]
  },
  {
   "cell_type": "code",
   "execution_count": 5,
   "metadata": {
    "collapsed": false
   },
   "outputs": [],
   "source": [
    "def calc(x):\n",
    "    selector = selector_per_cluster[x['cluster']]\n",
    "    d = {\"feature_ \" + str(i): v for i, v in enumerate(selector.transform(x)[0])}\n",
    "    d['features_list'] = ';'.join(cur_X.columns[selector.get_support()])\n",
    "    d['cluster'] = int(x['cluster'])\n",
    "    return pd.Series(d)\n",
    "\n",
    "for t in ['train', 'test']:\n",
    "    cur_data = pd.read_csv('../' + t + '_data_vectorized.csv', sep = '|', index_col='SubjectID')\n",
    "    cur_clusters = pd.read_csv('../' + t + '_kmeans_clusters.csv', sep = '|', index_col='SubjectID')\n",
    "    cur_X = pd.merge(cur_data, cur_clusters, left_index = True, right_index = True)\n",
    "    res = cur_X.apply(calc, axis = 1)\n",
    "    res.to_csv('../' + t + '_selected_features.csv',sep='|')\n",
    "    "
   ]
  },
  {
   "cell_type": "code",
   "execution_count": null,
   "metadata": {
    "collapsed": true
   },
   "outputs": [],
   "source": []
  }
 ],
 "metadata": {
  "kernelspec": {
   "display_name": "Python 2",
   "language": "python",
   "name": "python2"
  },
  "language_info": {
   "codemirror_mode": {
    "name": "ipython",
    "version": 2
   },
   "file_extension": ".py",
   "mimetype": "text/x-python",
   "name": "python",
   "nbconvert_exporter": "python",
   "pygments_lexer": "ipython2",
   "version": "2.7.10"
  }
 },
 "nbformat": 4,
 "nbformat_minor": 0
}
